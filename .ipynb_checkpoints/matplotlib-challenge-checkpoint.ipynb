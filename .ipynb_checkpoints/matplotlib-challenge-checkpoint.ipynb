{
 "cells": [
  {
   "cell_type": "markdown",
   "metadata": {},
   "source": [
    "# Matplotlib-challenge"
   ]
  },
  {
   "cell_type": "markdown",
   "metadata": {},
   "source": [
    "***Dependencies***"
   ]
  },
  {
   "cell_type": "code",
   "execution_count": 1,
   "metadata": {},
   "outputs": [],
   "source": [
    "import importlib\n",
    "import ipywidgets as widgets\n",
    "import scipy.stats as sts\n",
    "import matplotlib.pyplot as plt\n",
    "import pandas as pd"
   ]
  },
  {
   "cell_type": "markdown",
   "metadata": {},
   "source": [
    "# Exercises\n",
    "- code for exercises is in exercises.py"
   ]
  },
  {
   "cell_type": "code",
   "execution_count": 89,
   "metadata": {
    "scrolled": true
   },
   "outputs": [
    {
     "data": {
      "application/vnd.jupyter.widget-view+json": {
       "model_id": "29fa3ee5511a4c6699ee43dc8caa1f09",
       "version_major": 2,
       "version_minor": 0
      },
      "text/plain": [
       "Dropdown(index=10, options=('SELECT EXERCISE', '1. Checking the number of mice', '2. Generate a  summary table…"
      ]
     },
     "metadata": {},
     "output_type": "display_data"
    },
    {
     "data": {
      "image/png": "[encoded data removed]",
      "text/plain": [
       "<Figure size 432x288 with 1 Axes>"
      ]
     },
     "metadata": {
      "needs_background": "light"
     },
     "output_type": "display_data"
    }
   ],
   "source": [
    "import exercises\n",
    "importlib.reload(exercises)\n",
    "exerciseList = [\"SELECT EXERCISE\", \\\n",
    "           \"1. Checking the number of mice\", \n",
    "           \"2. Generate a  summary table\", \n",
    "           \"3a. Generate a plot using Panda's dataframe .plot() that shows the total mice for each treatment regimen\",\n",
    "           \"3b. Generate a plot using Matplotlib's pyplot that shows the total mice for each treatment regimen\",\n",
    "           \"4a. Generate a pie plot using Panda's dataframe .plot() that shows the distribution of female or male mice in the study\",\n",
    "           \"4b. Generate a pie plot using Matplotlib's pyplot that shows the distribution of female or male mice in the study\",\n",
    "           \"5a. Calculate the final tumor volume of each mouse across four of the most promising treatment regimens: Capomulin, Ramicane, Infubinol, and Ceftamin\",\n",
    "           \"6a. Calculate the quartiles and IQR and quantitatively determine if there are any potential outliers across all four treatment regimens.\",\n",
    "           \"6b. Using Matplotlib, generate a box and whisker plot of the final tumor volume for all four treatment regimens and highlight any potential outliers in the plot by changing their color and style.\",\n",
    "           \"7. Select a mouse that was treated with Capomulin and generate a line plot of time point versus tumor volume for that mouse.\",\n",
    "           \"8. Generate a scatter plot of mouse weight versus average tumor volume for the Capomulin treatment regimen.\",\n",
    "           \"9. Calculate the correlation coefficient and linear regression model between mouse weight and average tumor volume for the Capomulin treatment. Plot the linear regression model on top of the previous scatter plot.\",    \n",
    "           \"10. Look across all previously generated figures and tables and write at least three observations or inferences that can be made from the data. Include these observations at the top of notebook.\",\n",
    "           \"10a. Observation 1\",\n",
    "           \"10b. Observation 2\",\n",
    "           \"10c. Observation 3\"\n",
    "               ]\n",
    "dpnExercises = widgets.Dropdown(options=exerciseList)\n",
    "\n",
    "exercises.show_tasks_dropdown(dpnExercises)"
   ]
  },
  {
   "cell_type": "code",
   "execution_count": 108,
   "metadata": {},
   "outputs": [
    {
     "data": {
      "text/html": [
       "<div>\n",
       "<style scoped>\n",
       "    .dataframe tbody tr th:only-of-type {\n",
       "        vertical-align: middle;\n",
       "    }\n",
       "\n",
       "    .dataframe tbody tr th {\n",
       "        vertical-align: top;\n",
       "    }\n",
       "\n",
       "    .dataframe thead th {\n",
       "        text-align: right;\n",
       "    }\n",
       "</style>\n",
       "<table border=\"1\" class=\"dataframe\">\n",
       "  <thead>\n",
       "    <tr style=\"text-align: right;\">\n",
       "      <th></th>\n",
       "      <th>LowerB</th>\n",
       "      <th>Min</th>\n",
       "      <th>Q1</th>\n",
       "      <th>Q3</th>\n",
       "      <th>Max</th>\n",
       "      <th>UpperB</th>\n",
       "    </tr>\n",
       "    <tr>\n",
       "      <th>Name</th>\n",
       "      <th></th>\n",
       "      <th></th>\n",
       "      <th></th>\n",
       "      <th></th>\n",
       "      <th></th>\n",
       "      <th></th>\n",
       "    </tr>\n",
       "  </thead>\n",
       "  <tbody>\n",
       "    <tr>\n",
       "      <th>Capomulin</th>\n",
       "      <td>20.1</td>\n",
       "      <td>23.3</td>\n",
       "      <td>32.2</td>\n",
       "      <td>40.3</td>\n",
       "      <td>47.7</td>\n",
       "      <td>52.5</td>\n",
       "    </tr>\n",
       "    <tr>\n",
       "      <th>Ceftamin</th>\n",
       "      <td>24.4</td>\n",
       "      <td>45.0</td>\n",
       "      <td>48.4</td>\n",
       "      <td>64.4</td>\n",
       "      <td>68.9</td>\n",
       "      <td>88.4</td>\n",
       "    </tr>\n",
       "    <tr>\n",
       "      <th>Infubinol</th>\n",
       "      <td>34.5</td>\n",
       "      <td>36.3</td>\n",
       "      <td>53.2</td>\n",
       "      <td>65.7</td>\n",
       "      <td>72.2</td>\n",
       "      <td>84.5</td>\n",
       "    </tr>\n",
       "    <tr>\n",
       "      <th>Ramicane</th>\n",
       "      <td>17.5</td>\n",
       "      <td>22.1</td>\n",
       "      <td>31.4</td>\n",
       "      <td>40.7</td>\n",
       "      <td>45.2</td>\n",
       "      <td>54.5</td>\n",
       "    </tr>\n",
       "  </tbody>\n",
       "</table>\n",
       "</div>"
      ],
      "text/plain": [
       "          LowerB   Min    Q1    Q3   Max UpperB\n",
       "Name                                           \n",
       "Capomulin   20.1  23.3  32.2  40.3  47.7   52.5\n",
       "Ceftamin    24.4  45.0  48.4  64.4  68.9   88.4\n",
       "Infubinol   34.5  36.3  53.2  65.7  72.2   84.5\n",
       "Ramicane    17.5  22.1  31.4  40.7  45.2   54.5"
      ]
     },
     "execution_count": 108,
     "metadata": {},
     "output_type": "execute_result"
    }
   ],
   "source": [
    "df = src.get_four_promising_treatments()\n",
    "grps = df.groupby(\"Drug Regimen\")\n",
    "summary_df = pd.DataFrame({},columns=[\"Name\",\"LowerB\",\"Min\",\"Q1\",\"Q3\",\"Max\",\"UpperB\"])\n",
    "for name, grp in grps:\n",
    "    \n",
    "    [Q1, Q3] = sts.mstats.idealfourths(grp['Final Tumor Volume (mm3)'])\n",
    "    IQR = Q3 - Q1\n",
    "    lower_bound = Q1 - 1.5 * IQR\n",
    "    upper_bound = Q3 + 1.5 * IQR\n",
    "    \n",
    "    df_row = pd.DataFrame({\n",
    "                    \"Name\" : [name],\n",
    "                    \"LowerB\": [f\"{lower_bound:.1f}\"],\n",
    "                    \"Min\" : [f\"{grp['Final Tumor Volume (mm3)'].min():.1f}\"],\n",
    "                    \"Q1\" : [f\"{Q1:.1f}\"],\n",
    "                    \"Q3\" : [f\"{Q3:.1f}\"],\n",
    "                    \"Max\" : [f\"{grp['Final Tumor Volume (mm3)'].max():.1f}\"],\n",
    "                    \"UpperB\" : [f\"{upper_bound:.1f}\"]\n",
    "                })\n",
    "    \n",
    "    summary_df = summary_df.append(df_row)\n",
    "    \n",
    "\n",
    "summary_df.set_index(\"Name\")"
   ]
  },
  {
   "cell_type": "code",
   "execution_count": 91,
   "metadata": {},
   "outputs": [
    {
     "data": {
      "text/html": [
       "<style  type=\"text/css\" >\n",
       "</style><table id=\"T_bf353bd8_ca90_11ea_b9fd_4889e7427a24\" ><thead>    <tr>        <th class=\"blank level0\" ></th>        <th class=\"col_heading level0 col0\" >LowerB</th>        <th class=\"col_heading level0 col1\" >Min</th>        <th class=\"col_heading level0 col2\" >Q1</th>        <th class=\"col_heading level0 col3\" >Median</th>        <th class=\"col_heading level0 col4\" >Q3</th>        <th class=\"col_heading level0 col5\" >Max</th>        <th class=\"col_heading level0 col6\" >UpperB</th>    </tr></thead><tbody>\n",
       "                <tr>\n",
       "                        <th id=\"T_bf353bd8_ca90_11ea_b9fd_4889e7427a24level0_row0\" class=\"row_heading level0 row0\" >0</th>\n",
       "                        <td id=\"T_bf353bd8_ca90_11ea_b9fd_4889e7427a24row0_col0\" class=\"data row0 col0\" >2.8</td>\n",
       "                        <td id=\"T_bf353bd8_ca90_11ea_b9fd_4889e7427a24row0_col1\" class=\"data row0 col1\" >22.1</td>\n",
       "                        <td id=\"T_bf353bd8_ca90_11ea_b9fd_4889e7427a24row0_col2\" class=\"data row0 col2\" >37.1</td>\n",
       "                        <td id=\"T_bf353bd8_ca90_11ea_b9fd_4889e7427a24row0_col3\" class=\"data row0 col3\" >45.0</td>\n",
       "                        <td id=\"T_bf353bd8_ca90_11ea_b9fd_4889e7427a24row0_col4\" class=\"data row0 col4\" >60.0</td>\n",
       "                        <td id=\"T_bf353bd8_ca90_11ea_b9fd_4889e7427a24row0_col5\" class=\"data row0 col5\" >72.2</td>\n",
       "                        <td id=\"T_bf353bd8_ca90_11ea_b9fd_4889e7427a24row0_col6\" class=\"data row0 col6\" >94.4</td>\n",
       "            </tr>\n",
       "    </tbody></table>"
      ],
      "text/plain": [
       "<pandas.io.formats.style.Styler at 0x274d095c400>"
      ]
     },
     "execution_count": 91,
     "metadata": {},
     "output_type": "execute_result"
    }
   ],
   "source": [
    "pd.DataFrame({\n",
    "                    \"LowerB\": [lower_bound],\n",
    "                    \"Min\" : [df['Final Tumor Volume (mm3)'].min()],\n",
    "                    \"Q1\" : [Q1],\n",
    "                    \"Median\" : [df['Final Tumor Volume (mm3)'].median()],\n",
    "                    \"Q3\" : [Q3],\n",
    "                    \"Max\" : [df['Final Tumor Volume (mm3)'].max()],\n",
    "                    \"UpperB\" : [upper_bound]\n",
    "                }).style.format({\"LowerB\":\"{:.1f}\",\n",
    "                                \"Min\":\"{:.1f}\",\n",
    "                                \"Q1\":\"{:.1f}\",\n",
    "                                \"Median\":\"{:.1f}\",\n",
    "                                \"Q3\":\"{:.1f}\",\n",
    "                                \"Max\":\"{:.1f}\",\n",
    "                                \"UpperB\": \"{:.1f}\"})"
   ]
  },
  {
   "cell_type": "markdown",
   "metadata": {},
   "source": [
    "## Option to quickly choose which DataFrame to work with\n",
    "-----------"
   ]
  },
  {
   "cell_type": "code",
   "execution_count": 75,
   "metadata": {
    "scrolled": true
   },
   "outputs": [
    {
     "data": {
      "application/vnd.jupyter.widget-view+json": {
       "model_id": "cb25eb8854084f2285ed790882d80fb3",
       "version_major": 2,
       "version_minor": 0
      },
      "text/plain": [
       "Dropdown(options=('SELECT DF', 'mouse metadata', 'study results', 'raw data', 'first instance', 'last instance…"
      ]
     },
     "metadata": {},
     "output_type": "display_data"
    }
   ],
   "source": [
    "import src\n",
    "importlib.reload(src)\n",
    "global df\n",
    "dropdown = widgets.Dropdown(options=[\"SELECT DF\",\n",
    "                                     \"mouse metadata\",\n",
    "                                     \"study results\",\n",
    "                                     \"raw data\",\n",
    "                                     \"first instance\", \n",
    "                                     \"last instance\",\n",
    "                                     \"promising treatments\"])\n",
    "src.show_dataset_dropdown(dropdown)"
   ]
  },
  {
   "cell_type": "markdown",
   "metadata": {},
   "source": [
    "##### Set the dataframe to the dropdown value"
   ]
  },
  {
   "cell_type": "code",
   "execution_count": null,
   "metadata": {},
   "outputs": [],
   "source": [
    "df = src.get_df_from_dropdown(dropdown.value)"
   ]
  }
 ],
 "metadata": {
  "kernelspec": {
   "display_name": "Python 3.6.10 64-bit ('PythonData': conda)",
   "language": "python",
   "name": "python361064bitpythondataconda13c33e7d00474160b8916212f83fb86d"
  },
  "language_info": {
   "codemirror_mode": {
    "name": "ipython",
    "version": 3
   },
   "file_extension": ".py",
   "mimetype": "text/x-python",
   "name": "python",
   "nbconvert_exporter": "python",
   "pygments_lexer": "ipython3",
   "version": "3.6.10"
  }
 },
 "nbformat": 4,
 "nbformat_minor": 4
}
