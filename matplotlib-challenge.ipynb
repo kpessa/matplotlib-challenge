{
 "cells": [
  {
   "cell_type": "markdown",
   "metadata": {},
   "source": [
    "# Matplotlib-challenge"
   ]
  },
  {
   "cell_type": "markdown",
   "metadata": {},
   "source": [
    "***Dependencies***"
   ]
  },
  {
   "cell_type": "code",
   "execution_count": 1,
   "metadata": {},
   "outputs": [],
   "source": [
    "import importlib\n",
    "import ipywidgets as widgets\n",
    "import scipy.stats as sts\n",
    "import matplotlib.pyplot as plt\n",
    "import pandas as pd"
   ]
  },
  {
   "cell_type": "markdown",
   "metadata": {},
   "source": [
    "## SETUP: Option to quickly choose which DataFrame to work with\n",
    "-----------"
   ]
  },
  {
   "cell_type": "code",
   "execution_count": 75,
   "metadata": {
    "scrolled": true
   },
   "outputs": [
    {
     "data": {
      "application/vnd.jupyter.widget-view+json": {
       "model_id": "cb25eb8854084f2285ed790882d80fb3",
       "version_major": 2,
       "version_minor": 0
      },
      "text/plain": [
       "Dropdown(options=('SELECT DF', 'mouse metadata', 'study results', 'raw data', 'first instance', 'last instance…"
      ]
     },
     "metadata": {},
     "output_type": "display_data"
    }
   ],
   "source": [
    "import src\n",
    "importlib.reload(src)\n",
    "global df\n",
    "dropdown = widgets.Dropdown(options=[\"SELECT DF\",\n",
    "                                     \"mouse metadata\",\n",
    "                                     \"study results\",\n",
    "                                     \"raw data\",\n",
    "                                     \"first instance\", \n",
    "                                     \"last instance\",\n",
    "                                     \"promising treatments\"])\n",
    "src.show_dataset_dropdown(dropdown)"
   ]
  },
  {
   "cell_type": "markdown",
   "metadata": {},
   "source": [
    "##### Set the dataframe to the dropdown value"
   ]
  },
  {
   "cell_type": "code",
   "execution_count": null,
   "metadata": {},
   "outputs": [],
   "source": [
    "df = src.get_df_from_dropdown(dropdown.value)"
   ]
  },
  {
   "cell_type": "markdown",
   "metadata": {},
   "source": [
    "# Exercises\n",
    "- code for exercises is in exercises.py"
   ]
  },
  {
   "cell_type": "code",
   "execution_count": 76,
   "metadata": {
    "scrolled": true
   },
   "outputs": [
    {
     "data": {
      "application/vnd.jupyter.widget-view+json": {
       "model_id": "210d80447eb54b10ab63c2fb9ca45a50",
       "version_major": 2,
       "version_minor": 0
      },
      "text/plain": [
       "Dropdown(index=16, options=('SELECT EXERCISE', '1. Checking the number of mice', '2. Generate a  summary table…"
      ]
     },
     "metadata": {},
     "output_type": "display_data"
    },
    {
     "name": "stdout",
     "output_type": "stream",
     "text": [
      "Mouse c326 was an outlier in the Infubinol group. It looks like it's last timepoint was 5.. Did the mouse die?\n"
     ]
    },
    {
     "data": {
      "image/png": "[encoded data removed]",
      "text/plain": [
       "<Figure size 432x288 with 1 Axes>"
      ]
     },
     "metadata": {
      "needs_background": "light"
     },
     "output_type": "display_data"
    },
    {
     "data": {
      "text/plain": [
       "Mouse ID                         c326\n",
       "Drug Regimen                Infubinol\n",
       "Sex                            Female\n",
       "Age_months                         18\n",
       "Weight (g)                         25\n",
       "Timepoint                           5\n",
       "Final Tumor Volume (mm3)      36.3213\n",
       "Metastatic Sites                    0\n",
       "Name: 669, dtype: object"
      ]
     },
     "metadata": {},
     "output_type": "display_data"
    }
   ],
   "source": [
    "import exercises\n",
    "importlib.reload(exercises)\n",
    "exerciseList = [\"SELECT EXERCISE\", \\\n",
    "           \"1. Checking the number of mice\", \n",
    "           \"2. Generate a  summary table\", \n",
    "           \"3a. Generate a plot using Panda's dataframe .plot() that shows the total mice for each treatment regimen\",\n",
    "           \"3b. Generate a plot using Matplotlib's pyplot that shows the total mice for each treatment regimen\",\n",
    "           \"4a. Generate a pie plot using Panda's dataframe .plot() that shows the distribution of female or male mice in the study\",\n",
    "           \"4b. Generate a pie plot using Matplotlib's pyplot that shows the distribution of female or male mice in the study\",\n",
    "           \"5a. Calculate the final tumor volume of each mouse across four of the most promising treatment regimens: Capomulin, Ramicane, Infubinol, and Ceftamin\",\n",
    "           \"6a. Calculate the quartiles and IQR and quantitatively determine if there are any potential outliers across all four treatment regimens.\",\n",
    "           \"6b. Using Matplotlib, generate a box and whisker plot of the final tumor volume for all four treatment regimens and highlight any potential outliers in the plot by changing their color and style.\",\n",
    "           \"7. Select a mouse that was treated with Capomulin and generate a line plot of time point versus tumor volume for that mouse.\",\n",
    "           \"8. Generate a scatter plot of mouse weight versus average tumor volume for the Capomulin treatment regimen.\",\n",
    "           \"9. Calculate the correlation coefficient and linear regression model between mouse weight and average tumor volume for the Capomulin treatment. Plot the linear regression model on top of the previous scatter plot.\",    \n",
    "           \"10. Look across all previously generated figures and tables and write at least three observations or inferences that can be made from the data. Include these observations at the top of notebook.\",\n",
    "           \"10a. Observation 1\",\n",
    "           \"10b. Observation 2\",\n",
    "           \"10c. Observation 3\"\n",
    "               ]\n",
    "dpnExercises = widgets.Dropdown(options=exerciseList)\n",
    "\n",
    "exercises.show_tasks_dropdown(dpnExercises)"
   ]
  },
  {
   "cell_type": "code",
   "execution_count": null,
   "metadata": {},
   "outputs": [],
   "source": []
  }
 ],
 "metadata": {
  "kernelspec": {
   "display_name": "Python 3.6.10 64-bit ('PythonData': conda)",
   "language": "python",
   "name": "python361064bitpythondataconda13c33e7d00474160b8916212f83fb86d"
  },
  "language_info": {
   "codemirror_mode": {
    "name": "ipython",
    "version": 3
   },
   "file_extension": ".py",
   "mimetype": "text/x-python",
   "name": "python",
   "nbconvert_exporter": "python",
   "pygments_lexer": "ipython3",
   "version": "3.6.10"
  }
 },
 "nbformat": 4,
 "nbformat_minor": 4
}
