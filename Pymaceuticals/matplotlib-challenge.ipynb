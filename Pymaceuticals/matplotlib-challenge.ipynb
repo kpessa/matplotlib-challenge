{
 "cells": [
  {
   "cell_type": "markdown",
   "metadata": {},
   "source": [
    "# Matplotlib-challenge\n",
    "\n",
    "***Note: ipywidgets work better in jupyter notebook.  They show up in log in jupyter lab***"
   ]
  },
  {
   "cell_type": "markdown",
   "metadata": {},
   "source": [
    "***Dependencies***"
   ]
  },
  {
   "cell_type": "code",
   "execution_count": 1,
   "metadata": {},
   "outputs": [],
   "source": [
    "import importlib\n",
    "import ipywidgets as widgets\n",
    "import scipy.stats as sts\n",
    "import matplotlib.pyplot as plt\n",
    "import pandas as pd"
   ]
  },
  {
   "cell_type": "markdown",
   "metadata": {},
   "source": [
    "##### Created these python modules to store code"
   ]
  },
  {
   "cell_type": "code",
   "execution_count": 2,
   "metadata": {},
   "outputs": [],
   "source": [
    "from src import * \n",
    "from exercises import * "
   ]
  },
  {
   "cell_type": "markdown",
   "metadata": {},
   "source": [
    "# Exercises\n",
    "- code for exercises is in exercises.py\n",
    "- if in jupyter notebook, select one of the exercises in the dropdown, and the output should be displayed!  (let me know if I should reformat the notebook! Regards)"
   ]
  },
  {
   "cell_type": "code",
   "execution_count": 3,
   "metadata": {
    "scrolled": true
   },
   "outputs": [
    {
     "data": {
      "application/vnd.jupyter.widget-view+json": {
       "model_id": "a44c964c187b4164ba23fec55a4ef148",
       "version_major": 2,
       "version_minor": 0
      },
      "text/plain": [
       "Dropdown(options=('SELECT EXERCISE', '1. Checking the number of mice', '2. Generate a  summary table', \"3a. Ge…"
      ]
     },
     "metadata": {},
     "output_type": "display_data"
    }
   ],
   "source": [
    "import exercises\n",
    "importlib.reload(exercises)\n",
    "exerciseList = [\"SELECT EXERCISE\", \\\n",
    "           \"1. Checking the number of mice\", \n",
    "           \"2. Generate a  summary table\", \n",
    "           \"3a. Generate a plot using Panda's dataframe .plot() that shows the total mice for each treatment regimen\",\n",
    "           \"3b. Generate a plot using Matplotlib's pyplot that shows the total mice for each treatment regimen\",\n",
    "           \"4a. Generate a pie plot using Panda's dataframe .plot() that shows the distribution of female or male mice in the study\",\n",
    "           \"4b. Generate a pie plot using Matplotlib's pyplot that shows the distribution of female or male mice in the study\",\n",
    "           \"5a. Calculate the final tumor volume of each mouse across four of the most promising treatment regimens: Capomulin, Ramicane, Infubinol, and Ceftamin\",\n",
    "           \"6a. Calculate the quartiles and IQR and quantitatively determine if there are any potential outliers across all four treatment regimens.\",\n",
    "           \"6b. Using Matplotlib, generate a box and whisker plot of the final tumor volume for all four treatment regimens and highlight any potential outliers in the plot by changing their color and style.\",\n",
    "           \"7. Select a mouse that was treated with Capomulin and generate a line plot of time point versus tumor volume for that mouse.\",\n",
    "           \"8. Generate a scatter plot of mouse weight versus average tumor volume for the Capomulin treatment regimen.\",\n",
    "           \"9. Calculate the correlation coefficient and linear regression model between mouse weight and average tumor volume for the Capomulin treatment. Plot the linear regression model on top of the previous scatter plot.\",    \n",
    "           \"10. Look across all previously generated figures and tables and write at least three observations or inferences that can be made from the data. Include these observations at the top of notebook.\",\n",
    "           \"10a. Observation 1\",\n",
    "           \"10b. Observation 2\",\n",
    "           \"10c. Observation 3\"\n",
    "               ]\n",
    "dpnExercises = widgets.Dropdown(options=exerciseList)\n",
    "\n",
    "exercises.show_tasks_dropdown(dpnExercises)"
   ]
  },
  {
   "cell_type": "markdown",
   "metadata": {},
   "source": [
    "### 1. Checking the number of mice"
   ]
  },
  {
   "cell_type": "code",
   "execution_count": 4,
   "metadata": {},
   "outputs": [
    {
     "name": "stdout",
     "output_type": "stream",
     "text": [
      "Number of mice => 249\n"
     ]
    }
   ],
   "source": [
    "df = src.get_raw_data()\n",
    "numMice = len(set(df[\"Mouse ID\"]))\n",
    "print(\"Number of mice => \" + str(numMice))"
   ]
  },
  {
   "cell_type": "markdown",
   "metadata": {},
   "source": [
    "### 2. Generate a  summary table"
   ]
  },
  {
   "cell_type": "code",
   "execution_count": 5,
   "metadata": {},
   "outputs": [
    {
     "data": {
      "text/html": [
       "<style  type=\"text/css\" >\n",
       "#T_cdb73a78_1ad5_11eb_877f_001a7dda7113row0_col3,#T_cdb73a78_1ad5_11eb_877f_001a7dda7113row7_col3{\n",
       "            background-color:  #3b4cc0;\n",
       "            color:  #f1f1f1;\n",
       "        }#T_cdb73a78_1ad5_11eb_877f_001a7dda7113row1_col3,#T_cdb73a78_1ad5_11eb_877f_001a7dda7113row2_col3,#T_cdb73a78_1ad5_11eb_877f_001a7dda7113row6_col3{\n",
       "            background-color:  #d44e41;\n",
       "            color:  #000000;\n",
       "        }#T_cdb73a78_1ad5_11eb_877f_001a7dda7113row3_col3,#T_cdb73a78_1ad5_11eb_877f_001a7dda7113row4_col3,#T_cdb73a78_1ad5_11eb_877f_001a7dda7113row5_col3,#T_cdb73a78_1ad5_11eb_877f_001a7dda7113row8_col3,#T_cdb73a78_1ad5_11eb_877f_001a7dda7113row9_col3{\n",
       "            background-color:  #b40426;\n",
       "            color:  #f1f1f1;\n",
       "        }</style><table id=\"T_cdb73a78_1ad5_11eb_877f_001a7dda7113\" ><thead>    <tr>        <th class=\"blank level0\" ></th>        <th class=\"col_heading level0 col0\" >Drug Regimen</th>        <th class=\"col_heading level0 col1\" >Starting Volume</th>        <th class=\"col_heading level0 col2\" >Mean</th>        <th class=\"col_heading level0 col3\" >% Change</th>        <th class=\"col_heading level0 col4\" >Median</th>        <th class=\"col_heading level0 col5\" >Variance</th>        <th class=\"col_heading level0 col6\" >Standard Deviation</th>        <th class=\"col_heading level0 col7\" >SEM</th>    </tr>    <tr>        <th class=\"index_name level0\" >Drug Regimen</th>        <th class=\"blank\" ></th>        <th class=\"blank\" ></th>        <th class=\"blank\" ></th>        <th class=\"blank\" ></th>        <th class=\"blank\" ></th>        <th class=\"blank\" ></th>        <th class=\"blank\" ></th>        <th class=\"blank\" ></th>    </tr></thead><tbody>\n",
       "                <tr>\n",
       "                        <th id=\"T_cdb73a78_1ad5_11eb_877f_001a7dda7113level0_row0\" class=\"row_heading level0 row0\" >Capomulin</th>\n",
       "                        <td id=\"T_cdb73a78_1ad5_11eb_877f_001a7dda7113row0_col0\" class=\"data row0 col0\" >Ramicane</td>\n",
       "                        <td id=\"T_cdb73a78_1ad5_11eb_877f_001a7dda7113row0_col1\" class=\"data row0 col1\" >45.0</td>\n",
       "                        <td id=\"T_cdb73a78_1ad5_11eb_877f_001a7dda7113row0_col2\" class=\"data row0 col2\" >36.7</td>\n",
       "                        <td id=\"T_cdb73a78_1ad5_11eb_877f_001a7dda7113row0_col3\" class=\"data row0 col3\" >-22.7%</td>\n",
       "                        <td id=\"T_cdb73a78_1ad5_11eb_877f_001a7dda7113row0_col4\" class=\"data row0 col4\" >38.1</td>\n",
       "                        <td id=\"T_cdb73a78_1ad5_11eb_877f_001a7dda7113row0_col5\" class=\"data row0 col5\" >32.7</td>\n",
       "                        <td id=\"T_cdb73a78_1ad5_11eb_877f_001a7dda7113row0_col6\" class=\"data row0 col6\" >5.72</td>\n",
       "                        <td id=\"T_cdb73a78_1ad5_11eb_877f_001a7dda7113row0_col7\" class=\"data row0 col7\" >1.14</td>\n",
       "            </tr>\n",
       "            <tr>\n",
       "                        <th id=\"T_cdb73a78_1ad5_11eb_877f_001a7dda7113level0_row1\" class=\"row_heading level0 row1\" >Ceftamin</th>\n",
       "                        <td id=\"T_cdb73a78_1ad5_11eb_877f_001a7dda7113row1_col0\" class=\"data row1 col0\" >Capomulin</td>\n",
       "                        <td id=\"T_cdb73a78_1ad5_11eb_877f_001a7dda7113row1_col1\" class=\"data row1 col1\" >45.0</td>\n",
       "                        <td id=\"T_cdb73a78_1ad5_11eb_877f_001a7dda7113row1_col2\" class=\"data row1 col2\" >57.8</td>\n",
       "                        <td id=\"T_cdb73a78_1ad5_11eb_877f_001a7dda7113row1_col3\" class=\"data row1 col3\" >22.1%</td>\n",
       "                        <td id=\"T_cdb73a78_1ad5_11eb_877f_001a7dda7113row1_col4\" class=\"data row1 col4\" >59.9</td>\n",
       "                        <td id=\"T_cdb73a78_1ad5_11eb_877f_001a7dda7113row1_col5\" class=\"data row1 col5\" >70.0</td>\n",
       "                        <td id=\"T_cdb73a78_1ad5_11eb_877f_001a7dda7113row1_col6\" class=\"data row1 col6\" >8.37</td>\n",
       "                        <td id=\"T_cdb73a78_1ad5_11eb_877f_001a7dda7113row1_col7\" class=\"data row1 col7\" >1.67</td>\n",
       "            </tr>\n",
       "            <tr>\n",
       "                        <th id=\"T_cdb73a78_1ad5_11eb_877f_001a7dda7113level0_row2\" class=\"row_heading level0 row2\" >Infubinol</th>\n",
       "                        <td id=\"T_cdb73a78_1ad5_11eb_877f_001a7dda7113row2_col0\" class=\"data row2 col0\" >Infubinol</td>\n",
       "                        <td id=\"T_cdb73a78_1ad5_11eb_877f_001a7dda7113row2_col1\" class=\"data row2 col1\" >45.0</td>\n",
       "                        <td id=\"T_cdb73a78_1ad5_11eb_877f_001a7dda7113row2_col2\" class=\"data row2 col2\" >58.2</td>\n",
       "                        <td id=\"T_cdb73a78_1ad5_11eb_877f_001a7dda7113row2_col3\" class=\"data row2 col3\" >22.7%</td>\n",
       "                        <td id=\"T_cdb73a78_1ad5_11eb_877f_001a7dda7113row2_col4\" class=\"data row2 col4\" >60.2</td>\n",
       "                        <td id=\"T_cdb73a78_1ad5_11eb_877f_001a7dda7113row2_col5\" class=\"data row2 col5\" >74.0</td>\n",
       "                        <td id=\"T_cdb73a78_1ad5_11eb_877f_001a7dda7113row2_col6\" class=\"data row2 col6\" >8.60</td>\n",
       "                        <td id=\"T_cdb73a78_1ad5_11eb_877f_001a7dda7113row2_col7\" class=\"data row2 col7\" >1.72</td>\n",
       "            </tr>\n",
       "            <tr>\n",
       "                        <th id=\"T_cdb73a78_1ad5_11eb_877f_001a7dda7113level0_row3\" class=\"row_heading level0 row3\" >Ketapril</th>\n",
       "                        <td id=\"T_cdb73a78_1ad5_11eb_877f_001a7dda7113row3_col0\" class=\"data row3 col0\" >Placebo</td>\n",
       "                        <td id=\"T_cdb73a78_1ad5_11eb_877f_001a7dda7113row3_col1\" class=\"data row3 col1\" >45.0</td>\n",
       "                        <td id=\"T_cdb73a78_1ad5_11eb_877f_001a7dda7113row3_col2\" class=\"data row3 col2\" >62.8</td>\n",
       "                        <td id=\"T_cdb73a78_1ad5_11eb_877f_001a7dda7113row3_col3\" class=\"data row3 col3\" >28.4%</td>\n",
       "                        <td id=\"T_cdb73a78_1ad5_11eb_877f_001a7dda7113row3_col4\" class=\"data row3 col4\" >64.5</td>\n",
       "                        <td id=\"T_cdb73a78_1ad5_11eb_877f_001a7dda7113row3_col5\" class=\"data row3 col5\" >98.9</td>\n",
       "                        <td id=\"T_cdb73a78_1ad5_11eb_877f_001a7dda7113row3_col6\" class=\"data row3 col6\" >9.95</td>\n",
       "                        <td id=\"T_cdb73a78_1ad5_11eb_877f_001a7dda7113row3_col7\" class=\"data row3 col7\" >1.99</td>\n",
       "            </tr>\n",
       "            <tr>\n",
       "                        <th id=\"T_cdb73a78_1ad5_11eb_877f_001a7dda7113level0_row4\" class=\"row_heading level0 row4\" >Naftisol</th>\n",
       "                        <td id=\"T_cdb73a78_1ad5_11eb_877f_001a7dda7113row4_col0\" class=\"data row4 col0\" >Ceftamin</td>\n",
       "                        <td id=\"T_cdb73a78_1ad5_11eb_877f_001a7dda7113row4_col1\" class=\"data row4 col1\" >45.0</td>\n",
       "                        <td id=\"T_cdb73a78_1ad5_11eb_877f_001a7dda7113row4_col2\" class=\"data row4 col2\" >61.2</td>\n",
       "                        <td id=\"T_cdb73a78_1ad5_11eb_877f_001a7dda7113row4_col3\" class=\"data row4 col3\" >26.5%</td>\n",
       "                        <td id=\"T_cdb73a78_1ad5_11eb_877f_001a7dda7113row4_col4\" class=\"data row4 col4\" >63.3</td>\n",
       "                        <td id=\"T_cdb73a78_1ad5_11eb_877f_001a7dda7113row4_col5\" class=\"data row4 col5\" >106.0</td>\n",
       "                        <td id=\"T_cdb73a78_1ad5_11eb_877f_001a7dda7113row4_col6\" class=\"data row4 col6\" >10.30</td>\n",
       "                        <td id=\"T_cdb73a78_1ad5_11eb_877f_001a7dda7113row4_col7\" class=\"data row4 col7\" >2.06</td>\n",
       "            </tr>\n",
       "            <tr>\n",
       "                        <th id=\"T_cdb73a78_1ad5_11eb_877f_001a7dda7113level0_row5\" class=\"row_heading level0 row5\" >Placebo</th>\n",
       "                        <td id=\"T_cdb73a78_1ad5_11eb_877f_001a7dda7113row5_col0\" class=\"data row5 col0\" >Stelasyn</td>\n",
       "                        <td id=\"T_cdb73a78_1ad5_11eb_877f_001a7dda7113row5_col1\" class=\"data row5 col1\" >45.0</td>\n",
       "                        <td id=\"T_cdb73a78_1ad5_11eb_877f_001a7dda7113row5_col2\" class=\"data row5 col2\" >60.5</td>\n",
       "                        <td id=\"T_cdb73a78_1ad5_11eb_877f_001a7dda7113row5_col3\" class=\"data row5 col3\" >25.6%</td>\n",
       "                        <td id=\"T_cdb73a78_1ad5_11eb_877f_001a7dda7113row5_col4\" class=\"data row5 col4\" >62.0</td>\n",
       "                        <td id=\"T_cdb73a78_1ad5_11eb_877f_001a7dda7113row5_col5\" class=\"data row5 col5\" >78.8</td>\n",
       "                        <td id=\"T_cdb73a78_1ad5_11eb_877f_001a7dda7113row5_col6\" class=\"data row5 col6\" >8.87</td>\n",
       "                        <td id=\"T_cdb73a78_1ad5_11eb_877f_001a7dda7113row5_col7\" class=\"data row5 col7\" >1.77</td>\n",
       "            </tr>\n",
       "            <tr>\n",
       "                        <th id=\"T_cdb73a78_1ad5_11eb_877f_001a7dda7113level0_row6\" class=\"row_heading level0 row6\" >Propriva</th>\n",
       "                        <td id=\"T_cdb73a78_1ad5_11eb_877f_001a7dda7113row6_col0\" class=\"data row6 col0\" >Zoniferol</td>\n",
       "                        <td id=\"T_cdb73a78_1ad5_11eb_877f_001a7dda7113row6_col1\" class=\"data row6 col1\" >45.0</td>\n",
       "                        <td id=\"T_cdb73a78_1ad5_11eb_877f_001a7dda7113row6_col2\" class=\"data row6 col2\" >56.7</td>\n",
       "                        <td id=\"T_cdb73a78_1ad5_11eb_877f_001a7dda7113row6_col3\" class=\"data row6 col3\" >20.7%</td>\n",
       "                        <td id=\"T_cdb73a78_1ad5_11eb_877f_001a7dda7113row6_col4\" class=\"data row6 col4\" >55.8</td>\n",
       "                        <td id=\"T_cdb73a78_1ad5_11eb_877f_001a7dda7113row6_col5\" class=\"data row6 col5\" >69.3</td>\n",
       "                        <td id=\"T_cdb73a78_1ad5_11eb_877f_001a7dda7113row6_col6\" class=\"data row6 col6\" >8.33</td>\n",
       "                        <td id=\"T_cdb73a78_1ad5_11eb_877f_001a7dda7113row6_col7\" class=\"data row6 col7\" >1.67</td>\n",
       "            </tr>\n",
       "            <tr>\n",
       "                        <th id=\"T_cdb73a78_1ad5_11eb_877f_001a7dda7113level0_row7\" class=\"row_heading level0 row7\" >Ramicane</th>\n",
       "                        <td id=\"T_cdb73a78_1ad5_11eb_877f_001a7dda7113row7_col0\" class=\"data row7 col0\" >Ketapril</td>\n",
       "                        <td id=\"T_cdb73a78_1ad5_11eb_877f_001a7dda7113row7_col1\" class=\"data row7 col1\" >45.0</td>\n",
       "                        <td id=\"T_cdb73a78_1ad5_11eb_877f_001a7dda7113row7_col2\" class=\"data row7 col2\" >36.2</td>\n",
       "                        <td id=\"T_cdb73a78_1ad5_11eb_877f_001a7dda7113row7_col3\" class=\"data row7 col3\" >-24.3%</td>\n",
       "                        <td id=\"T_cdb73a78_1ad5_11eb_877f_001a7dda7113row7_col4\" class=\"data row7 col4\" >36.6</td>\n",
       "                        <td id=\"T_cdb73a78_1ad5_11eb_877f_001a7dda7113row7_col5\" class=\"data row7 col5\" >32.2</td>\n",
       "                        <td id=\"T_cdb73a78_1ad5_11eb_877f_001a7dda7113row7_col6\" class=\"data row7 col6\" >5.67</td>\n",
       "                        <td id=\"T_cdb73a78_1ad5_11eb_877f_001a7dda7113row7_col7\" class=\"data row7 col7\" >1.13</td>\n",
       "            </tr>\n",
       "            <tr>\n",
       "                        <th id=\"T_cdb73a78_1ad5_11eb_877f_001a7dda7113level0_row8\" class=\"row_heading level0 row8\" >Stelasyn</th>\n",
       "                        <td id=\"T_cdb73a78_1ad5_11eb_877f_001a7dda7113row8_col0\" class=\"data row8 col0\" >Propriva</td>\n",
       "                        <td id=\"T_cdb73a78_1ad5_11eb_877f_001a7dda7113row8_col1\" class=\"data row8 col1\" >45.0</td>\n",
       "                        <td id=\"T_cdb73a78_1ad5_11eb_877f_001a7dda7113row8_col2\" class=\"data row8 col2\" >61.0</td>\n",
       "                        <td id=\"T_cdb73a78_1ad5_11eb_877f_001a7dda7113row8_col3\" class=\"data row8 col3\" >26.2%</td>\n",
       "                        <td id=\"T_cdb73a78_1ad5_11eb_877f_001a7dda7113row8_col4\" class=\"data row8 col4\" >62.2</td>\n",
       "                        <td id=\"T_cdb73a78_1ad5_11eb_877f_001a7dda7113row8_col5\" class=\"data row8 col5\" >90.3</td>\n",
       "                        <td id=\"T_cdb73a78_1ad5_11eb_877f_001a7dda7113row8_col6\" class=\"data row8 col6\" >9.50</td>\n",
       "                        <td id=\"T_cdb73a78_1ad5_11eb_877f_001a7dda7113row8_col7\" class=\"data row8 col7\" >1.94</td>\n",
       "            </tr>\n",
       "            <tr>\n",
       "                        <th id=\"T_cdb73a78_1ad5_11eb_877f_001a7dda7113level0_row9\" class=\"row_heading level0 row9\" >Zoniferol</th>\n",
       "                        <td id=\"T_cdb73a78_1ad5_11eb_877f_001a7dda7113row9_col0\" class=\"data row9 col0\" >Naftisol</td>\n",
       "                        <td id=\"T_cdb73a78_1ad5_11eb_877f_001a7dda7113row9_col1\" class=\"data row9 col1\" >45.0</td>\n",
       "                        <td id=\"T_cdb73a78_1ad5_11eb_877f_001a7dda7113row9_col2\" class=\"data row9 col2\" >59.2</td>\n",
       "                        <td id=\"T_cdb73a78_1ad5_11eb_877f_001a7dda7113row9_col3\" class=\"data row9 col3\" >24.0%</td>\n",
       "                        <td id=\"T_cdb73a78_1ad5_11eb_877f_001a7dda7113row9_col4\" class=\"data row9 col4\" >61.8</td>\n",
       "                        <td id=\"T_cdb73a78_1ad5_11eb_877f_001a7dda7113row9_col5\" class=\"data row9 col5\" >76.9</td>\n",
       "                        <td id=\"T_cdb73a78_1ad5_11eb_877f_001a7dda7113row9_col6\" class=\"data row9 col6\" >8.77</td>\n",
       "                        <td id=\"T_cdb73a78_1ad5_11eb_877f_001a7dda7113row9_col7\" class=\"data row9 col7\" >1.75</td>\n",
       "            </tr>\n",
       "    </tbody></table>"
      ],
      "text/plain": [
       "<pandas.io.formats.style.Styler at 0x1b9eade3438>"
      ]
     },
     "execution_count": 5,
     "metadata": {},
     "output_type": "execute_result"
    }
   ],
   "source": [
    "generate_a_summary_table()"
   ]
  },
  {
   "cell_type": "markdown",
   "metadata": {},
   "source": [
    "### 3a. Generate a plot using Panda's dataframe .plot() that shows the total mice for each treatment regimen\""
   ]
  },
  {
   "cell_type": "code",
   "execution_count": 6,
   "metadata": {},
   "outputs": [
    {
     "data": {
      "image/png": "[encoded data removed]",
      "text/plain": [
       "<Figure size 432x288 with 1 Axes>"
      ]
     },
     "metadata": {
      "needs_background": "light"
     },
     "output_type": "display_data"
    }
   ],
   "source": [
    "drug_grp = src.get_last_instance_data().groupby(by=\"Drug Regimen\")\n",
    "drug_grp['Mouse ID'].count().plot(kind=\"bar\", title=\"Total mice for each treatment regimen\")\n",
    "plt.ylabel(\"Mice Count\")\n",
    "plt.xticks(rotation=45)\n",
    "plt.show()"
   ]
  },
  {
   "cell_type": "markdown",
   "metadata": {},
   "source": [
    "### 3b. Generate a plot using Matplotlib's pyplot that shows the total mice for each treatment regimen\""
   ]
  },
  {
   "cell_type": "code",
   "execution_count": 7,
   "metadata": {},
   "outputs": [
    {
     "data": {
      "text/plain": [
       "Text(0.5, 1.0, 'Total mice for each treatment regimen')"
      ]
     },
     "execution_count": 7,
     "metadata": {},
     "output_type": "execute_result"
    },
    {
     "data": {
      "image/png": "[encoded data removed]",
      "text/plain": [
       "<Figure size 432x288 with 1 Axes>"
      ]
     },
     "metadata": {
      "needs_background": "light"
     },
     "output_type": "display_data"
    }
   ],
   "source": [
    "drug_grp = src.get_last_instance_data().groupby(by=\"Drug Regimen\")\n",
    "plt.bar(drug_grp.groups.keys(),drug_grp['Mouse ID'].count())\n",
    "plt.xticks(rotation=45)\n",
    "plt.ylabel(\"Mice Count\")\n",
    "plt.xlabel(\"Drug Regimen\")\n",
    "plt.title(\"Total mice for each treatment regimen\")"
   ]
  },
  {
   "cell_type": "markdown",
   "metadata": {},
   "source": [
    "### 4a. Generate a pie plot using Panda's dataframe .plot() that shows the distribution of female or male mice in the study"
   ]
  },
  {
   "cell_type": "code",
   "execution_count": 8,
   "metadata": {},
   "outputs": [
    {
     "data": {
      "image/png": "[encoded data removed]",
      "text/plain": [
       "<Figure size 432x288 with 1 Axes>"
      ]
     },
     "metadata": {},
     "output_type": "display_data"
    }
   ],
   "source": [
    "drug_grp = src.get_last_instance_data().groupby(by=\"Sex\")\n",
    "drug_grp['Mouse ID'].count().plot(kind='pie', title=\"Distribution of female or male mice in the study\",explode = [0,0.2],shadow=True, startangle=-30)\n",
    "plt.show()"
   ]
  },
  {
   "cell_type": "markdown",
   "metadata": {},
   "source": [
    "### 4b. Generate a pie plot using Matplotlib's pyplot that shows the distribution of female or male mice in the study"
   ]
  },
  {
   "cell_type": "code",
   "execution_count": 9,
   "metadata": {},
   "outputs": [
    {
     "data": {
      "image/png": "[encoded data removed]",
      "text/plain": [
       "<Figure size 432x288 with 1 Axes>"
      ]
     },
     "metadata": {},
     "output_type": "display_data"
    }
   ],
   "source": [
    "drug_grp = src.get_last_instance_data().groupby(by=\"Sex\")\n",
    "plt.pie(drug_grp['Mouse ID'].count(),labels=drug_grp.groups.keys(),explode = [0,0.2],shadow=True, startangle=-30)\n",
    "plt.title(\"Distribution of female or male mice in the study\")\n",
    "plt.show()"
   ]
  },
  {
   "cell_type": "markdown",
   "metadata": {},
   "source": [
    "### 5a. Calculate the final tumor volume of each mouse across four of the most promising treatment regimens: Capomulin, Ramicane, Infubinol, and Ceftamin"
   ]
  },
  {
   "cell_type": "code",
   "execution_count": 10,
   "metadata": {},
   "outputs": [
    {
     "data": {
      "text/html": [
       "<div>\n",
       "<style scoped>\n",
       "    .dataframe tbody tr th:only-of-type {\n",
       "        vertical-align: middle;\n",
       "    }\n",
       "\n",
       "    .dataframe tbody tr th {\n",
       "        vertical-align: top;\n",
       "    }\n",
       "\n",
       "    .dataframe thead th {\n",
       "        text-align: right;\n",
       "    }\n",
       "</style>\n",
       "<table border=\"1\" class=\"dataframe\">\n",
       "  <thead>\n",
       "    <tr style=\"text-align: right;\">\n",
       "      <th></th>\n",
       "      <th>Mouse ID</th>\n",
       "      <th>Sex</th>\n",
       "      <th>Final Tumor Volume (mm3)</th>\n",
       "    </tr>\n",
       "    <tr>\n",
       "      <th>Drug Regimen</th>\n",
       "      <th></th>\n",
       "      <th></th>\n",
       "      <th></th>\n",
       "    </tr>\n",
       "  </thead>\n",
       "  <tbody>\n",
       "    <tr>\n",
       "      <th>Capomulin</th>\n",
       "      <td>s185</td>\n",
       "      <td>Female</td>\n",
       "      <td>23.343598</td>\n",
       "    </tr>\n",
       "    <tr>\n",
       "      <th>Capomulin</th>\n",
       "      <td>x401</td>\n",
       "      <td>Female</td>\n",
       "      <td>28.484033</td>\n",
       "    </tr>\n",
       "    <tr>\n",
       "      <th>Capomulin</th>\n",
       "      <td>m601</td>\n",
       "      <td>Male</td>\n",
       "      <td>28.430964</td>\n",
       "    </tr>\n",
       "    <tr>\n",
       "      <th>Capomulin</th>\n",
       "      <td>f966</td>\n",
       "      <td>Male</td>\n",
       "      <td>30.485985</td>\n",
       "    </tr>\n",
       "    <tr>\n",
       "      <th>Capomulin</th>\n",
       "      <td>u364</td>\n",
       "      <td>Male</td>\n",
       "      <td>31.023923</td>\n",
       "    </tr>\n",
       "    <tr>\n",
       "      <th>...</th>\n",
       "      <td>...</td>\n",
       "      <td>...</td>\n",
       "      <td>...</td>\n",
       "    </tr>\n",
       "    <tr>\n",
       "      <th>Ceftamin</th>\n",
       "      <td>x226</td>\n",
       "      <td>Male</td>\n",
       "      <td>45.000000</td>\n",
       "    </tr>\n",
       "    <tr>\n",
       "      <th>Ceftamin</th>\n",
       "      <td>x581</td>\n",
       "      <td>Female</td>\n",
       "      <td>64.634949</td>\n",
       "    </tr>\n",
       "    <tr>\n",
       "      <th>Ceftamin</th>\n",
       "      <td>x822</td>\n",
       "      <td>Male</td>\n",
       "      <td>61.386660</td>\n",
       "    </tr>\n",
       "    <tr>\n",
       "      <th>Ceftamin</th>\n",
       "      <td>y769</td>\n",
       "      <td>Female</td>\n",
       "      <td>68.594745</td>\n",
       "    </tr>\n",
       "    <tr>\n",
       "      <th>Ceftamin</th>\n",
       "      <td>y865</td>\n",
       "      <td>Male</td>\n",
       "      <td>64.729837</td>\n",
       "    </tr>\n",
       "  </tbody>\n",
       "</table>\n",
       "<p>100 rows × 3 columns</p>\n",
       "</div>"
      ],
      "text/plain": [
       "             Mouse ID     Sex  Final Tumor Volume (mm3)\n",
       "Drug Regimen                                           \n",
       "Capomulin        s185  Female                 23.343598\n",
       "Capomulin        x401  Female                 28.484033\n",
       "Capomulin        m601    Male                 28.430964\n",
       "Capomulin        f966    Male                 30.485985\n",
       "Capomulin        u364    Male                 31.023923\n",
       "...               ...     ...                       ...\n",
       "Ceftamin         x226    Male                 45.000000\n",
       "Ceftamin         x581  Female                 64.634949\n",
       "Ceftamin         x822    Male                 61.386660\n",
       "Ceftamin         y769  Female                 68.594745\n",
       "Ceftamin         y865    Male                 64.729837\n",
       "\n",
       "[100 rows x 3 columns]"
      ]
     },
     "execution_count": 10,
     "metadata": {},
     "output_type": "execute_result"
    }
   ],
   "source": [
    "df = src.get_four_promising_treatments()\n",
    "df"
   ]
  },
  {
   "cell_type": "markdown",
   "metadata": {},
   "source": [
    "### 6a. Calculate the quartiles and IQR and quantitatively determine if there are any potential outliers across all four treatment regimens."
   ]
  },
  {
   "cell_type": "code",
   "execution_count": 11,
   "metadata": {},
   "outputs": [
    {
     "name": "stdout",
     "output_type": "stream",
     "text": [
      "Outliers array: []\n"
     ]
    },
    {
     "data": {
      "text/html": [
       "<div>\n",
       "<style scoped>\n",
       "    .dataframe tbody tr th:only-of-type {\n",
       "        vertical-align: middle;\n",
       "    }\n",
       "\n",
       "    .dataframe tbody tr th {\n",
       "        vertical-align: top;\n",
       "    }\n",
       "\n",
       "    .dataframe thead th {\n",
       "        text-align: right;\n",
       "    }\n",
       "</style>\n",
       "<table border=\"1\" class=\"dataframe\">\n",
       "  <thead>\n",
       "    <tr style=\"text-align: right;\">\n",
       "      <th></th>\n",
       "      <th>LowerB</th>\n",
       "      <th>Min</th>\n",
       "      <th>Q1</th>\n",
       "      <th>IQR</th>\n",
       "      <th>Q3</th>\n",
       "      <th>Max</th>\n",
       "      <th>UpperB</th>\n",
       "    </tr>\n",
       "    <tr>\n",
       "      <th>Name</th>\n",
       "      <th></th>\n",
       "      <th></th>\n",
       "      <th></th>\n",
       "      <th></th>\n",
       "      <th></th>\n",
       "      <th></th>\n",
       "      <th></th>\n",
       "    </tr>\n",
       "  </thead>\n",
       "  <tbody>\n",
       "    <tr>\n",
       "      <th>Capomulin</th>\n",
       "      <td>20.5</td>\n",
       "      <td>23.3</td>\n",
       "      <td>32.2</td>\n",
       "      <td>7.8</td>\n",
       "      <td>40.3</td>\n",
       "      <td>47.7</td>\n",
       "      <td>52.0</td>\n",
       "    </tr>\n",
       "    <tr>\n",
       "      <th>Ceftamin</th>\n",
       "      <td>25.0</td>\n",
       "      <td>45.0</td>\n",
       "      <td>48.4</td>\n",
       "      <td>15.6</td>\n",
       "      <td>64.4</td>\n",
       "      <td>68.9</td>\n",
       "      <td>87.8</td>\n",
       "    </tr>\n",
       "    <tr>\n",
       "      <th>Infubinol</th>\n",
       "      <td>36.0</td>\n",
       "      <td>36.3</td>\n",
       "      <td>53.2</td>\n",
       "      <td>11.5</td>\n",
       "      <td>65.7</td>\n",
       "      <td>72.2</td>\n",
       "      <td>82.9</td>\n",
       "    </tr>\n",
       "    <tr>\n",
       "      <th>Ramicane</th>\n",
       "      <td>17.8</td>\n",
       "      <td>22.1</td>\n",
       "      <td>31.4</td>\n",
       "      <td>9.1</td>\n",
       "      <td>40.7</td>\n",
       "      <td>45.2</td>\n",
       "      <td>54.3</td>\n",
       "    </tr>\n",
       "  </tbody>\n",
       "</table>\n",
       "</div>"
      ],
      "text/plain": [
       "          LowerB   Min    Q1   IQR    Q3   Max UpperB\n",
       "Name                                                 \n",
       "Capomulin   20.5  23.3  32.2   7.8  40.3  47.7   52.0\n",
       "Ceftamin    25.0  45.0  48.4  15.6  64.4  68.9   87.8\n",
       "Infubinol   36.0  36.3  53.2  11.5  65.7  72.2   82.9\n",
       "Ramicane    17.8  22.1  31.4   9.1  40.7  45.2   54.3"
      ]
     },
     "execution_count": 11,
     "metadata": {},
     "output_type": "execute_result"
    }
   ],
   "source": [
    "df = src.get_four_promising_treatments()\n",
    "grps = df.groupby(\"Drug Regimen\")\n",
    "summary_df = pd.DataFrame({},columns=[\"Name\",\"LowerB\",\"Min\",\"Q1\",\"IQR\",\"Q3\",\"Max\",\"UpperB\"])\n",
    "outliers = []\n",
    "for name, grp in grps:\n",
    "\n",
    "    arr = grp['Final Tumor Volume (mm3)']\n",
    "\n",
    "    [Q1, Q3] = sts.mstats.idealfourths(arr)\n",
    "    IQR = sts.iqr(arr)\n",
    "    lower_bound = Q1 - 1.5 * IQR\n",
    "    upper_bound = Q3 + 1.5 * IQR\n",
    "\n",
    "    df_row = pd.DataFrame({\n",
    "                    \"Name\" : [name],\n",
    "                    \"LowerB\": [f\"{lower_bound:.1f}\"],\n",
    "                    \"Min\" : [f\"{arr.min():.1f}\"],\n",
    "                    \"Q1\" : [f\"{Q1:.1f}\"],\n",
    "                    \"IQR\" : [f\"{IQR:.1f}\"],\n",
    "                    \"Q3\" : [f\"{Q3:.1f}\"],\n",
    "                    \"Max\" : [f\"{arr.max():.1f}\"],\n",
    "                    \"UpperB\" : [f\"{upper_bound:.1f}\"]\n",
    "                })\n",
    "\n",
    "    summary_df = summary_df.append(df_row)\n",
    "\n",
    "    filt = ((arr < lower_bound) | (arr > upper_bound))\n",
    "    if len(arr[filt]) > 0:\n",
    "        outliers.append(arr[filt])\n",
    "\n",
    "print(\"Outliers array:\",outliers)\n",
    "\n",
    "summary_df.set_index(\"Name\")"
   ]
  },
  {
   "cell_type": "markdown",
   "metadata": {},
   "source": [
    "### 6b. Using Matplotlib, generate a box and whisker plot of the final tumor volume for all four treatment regimens and highlight any potential outliers in the plot by changing their color and style."
   ]
  },
  {
   "cell_type": "code",
   "execution_count": 12,
   "metadata": {},
   "outputs": [
    {
     "data": {
      "image/png": "[encoded data removed]",
      "text/plain": [
       "<Figure size 432x288 with 1 Axes>"
      ]
     },
     "metadata": {
      "needs_background": "light"
     },
     "output_type": "display_data"
    },
    {
     "data": {
      "text/plain": [
       "Mouse ID                         c326\n",
       "Drug Regimen                Infubinol\n",
       "Sex                            Female\n",
       "Age_months                         18\n",
       "Weight (g)                         25\n",
       "Timepoint                           5\n",
       "Final Tumor Volume (mm3)      36.3213\n",
       "Metastatic Sites                    0\n",
       "Name: 669, dtype: object"
      ]
     },
     "execution_count": 12,
     "metadata": {},
     "output_type": "execute_result"
    }
   ],
   "source": [
    "exercise6b()\n",
    "df = src.get_last_instance_data()\n",
    "filt = df[\"Drug Regimen\"]==\"Infubinol\"\n",
    "df = df[filt].rename(columns={\"Tumor Volume (mm3)\":\"Final Tumor Volume (mm3)\"})\n",
    "\n",
    "df.loc[669]"
   ]
  },
  {
   "cell_type": "markdown",
   "metadata": {},
   "source": [
    "### 7. Select a mouse that was treated with Capomulin and generate a line plot of time point versus tumor volume for that mouse."
   ]
  },
  {
   "cell_type": "code",
   "execution_count": 13,
   "metadata": {},
   "outputs": [
    {
     "data": {
      "image/png": "[encoded data removed]",
      "text/plain": [
       "<Figure size 432x288 with 1 Axes>"
      ]
     },
     "metadata": {
      "needs_background": "light"
     },
     "output_type": "display_data"
    }
   ],
   "source": [
    "df = src.get_raw_data()\n",
    "filt = df[\"Drug Regimen\"] == \"Capomulin\"\n",
    "mouse = df[filt].iloc[0,:][\"Mouse ID\"]\n",
    "filt = df[\"Mouse ID\"] == mouse\n",
    "mouse_data = df[filt][[\"Timepoint\",\"Tumor Volume (mm3)\"]].set_index(\"Timepoint\")\n",
    "\n",
    "plt.plot(mouse_data)\n",
    "plt.title(f\"Capomulin treated mouse '{mouse}' data: Tumor volume over time\")\n",
    "plt.xlabel(\"Timepoint\")\n",
    "plt.ylim(0,50)\n",
    "plt.ylabel(\"Tumor size (mm3)\")\n",
    "plt.show()"
   ]
  },
  {
   "cell_type": "markdown",
   "metadata": {},
   "source": [
    "### 8. Generate a scatter plot of mouse weight versus average tumor volume for the Capomulin treatment regimen."
   ]
  },
  {
   "cell_type": "code",
   "execution_count": 14,
   "metadata": {},
   "outputs": [
    {
     "data": {
      "image/png": "[encoded data removed]",
      "text/plain": [
       "<Figure size 432x288 with 1 Axes>"
      ]
     },
     "metadata": {
      "needs_background": "light"
     },
     "output_type": "display_data"
    }
   ],
   "source": [
    "df = src.get_mouse_metadata()\n",
    "filt = df[\"Drug Regimen\"] == \"Capomulin\"\n",
    "df_weight = df[filt][[\"Mouse ID\", \"Weight (g)\"]]\n",
    "\n",
    "df = src.get_raw_data()\n",
    "filt = df[\"Drug Regimen\"] == \"Capomulin\"\n",
    "df = df[filt][['Mouse ID',\"Tumor Volume (mm3)\"]]\n",
    "df_avg_tumor_volume = df.groupby(by=\"Mouse ID\").mean()\n",
    "df = df_weight.merge(df_avg_tumor_volume,on=\"Mouse ID\",how='left')\n",
    "\n",
    "plt.scatter(df['Tumor Volume (mm3)'],df[\"Weight (g)\"])\n",
    "plt.ylabel(\"Mouse Weight (g)\")\n",
    "plt.xlabel(\"Average tumor volume (mm3)\")\n",
    "plt.xlim(34,47)\n",
    "plt.ylim(10,28)\n",
    "plt.show()"
   ]
  },
  {
   "cell_type": "markdown",
   "metadata": {},
   "source": [
    "### 9. Calculate the correlation coefficient and linear regression model between mouse weight and average tumor volume for the Capomulin treatment. Plot the linear regression model on top of the previous scatter plot."
   ]
  },
  {
   "cell_type": "code",
   "execution_count": 15,
   "metadata": {},
   "outputs": [
    {
     "data": {
      "image/png": "[encoded data removed]",
      "text/plain": [
       "<Figure size 432x288 with 1 Axes>"
      ]
     },
     "metadata": {
      "needs_background": "light"
     },
     "output_type": "display_data"
    }
   ],
   "source": [
    "exercise9()"
   ]
  },
  {
   "cell_type": "markdown",
   "metadata": {},
   "source": [
    "### 10a. Observation 1"
   ]
  },
  {
   "cell_type": "code",
   "execution_count": 16,
   "metadata": {},
   "outputs": [
    {
     "name": "stdout",
     "output_type": "stream",
     "text": [
      "Observation 1: Rat tumor size correlates with mouse weight, and it's statistically signficant\n"
     ]
    },
    {
     "data": {
      "image/png": "[encoded data removed]",
      "text/plain": [
       "<Figure size 432x288 with 1 Axes>"
      ]
     },
     "metadata": {
      "needs_background": "light"
     },
     "output_type": "display_data"
    }
   ],
   "source": [
    "print(\"Observation 1: Rat tumor size correlates with mouse weight, and it's statistically signficant\")\n",
    "exercise9()"
   ]
  },
  {
   "cell_type": "markdown",
   "metadata": {},
   "source": [
    "### 10b. Observation 2"
   ]
  },
  {
   "cell_type": "code",
   "execution_count": 17,
   "metadata": {},
   "outputs": [
    {
     "name": "stdout",
     "output_type": "stream",
     "text": [
      "Observation 2: Capomulin and Ramicane were the only treatments that on average decreased tumor size.\n"
     ]
    },
    {
     "data": {
      "text/html": [
       "<style  type=\"text/css\" >\n",
       "#T_ce98ce34_1ad5_11eb_bb76_001a7dda7113row0_col3,#T_ce98ce34_1ad5_11eb_bb76_001a7dda7113row7_col3{\n",
       "            background-color:  #3b4cc0;\n",
       "            color:  #f1f1f1;\n",
       "        }#T_ce98ce34_1ad5_11eb_bb76_001a7dda7113row1_col3,#T_ce98ce34_1ad5_11eb_bb76_001a7dda7113row2_col3,#T_ce98ce34_1ad5_11eb_bb76_001a7dda7113row6_col3{\n",
       "            background-color:  #d44e41;\n",
       "            color:  #000000;\n",
       "        }#T_ce98ce34_1ad5_11eb_bb76_001a7dda7113row3_col3,#T_ce98ce34_1ad5_11eb_bb76_001a7dda7113row4_col3,#T_ce98ce34_1ad5_11eb_bb76_001a7dda7113row5_col3,#T_ce98ce34_1ad5_11eb_bb76_001a7dda7113row8_col3,#T_ce98ce34_1ad5_11eb_bb76_001a7dda7113row9_col3{\n",
       "            background-color:  #b40426;\n",
       "            color:  #f1f1f1;\n",
       "        }</style><table id=\"T_ce98ce34_1ad5_11eb_bb76_001a7dda7113\" ><thead>    <tr>        <th class=\"blank level0\" ></th>        <th class=\"col_heading level0 col0\" >Drug Regimen</th>        <th class=\"col_heading level0 col1\" >Starting Volume</th>        <th class=\"col_heading level0 col2\" >Mean</th>        <th class=\"col_heading level0 col3\" >% Change</th>        <th class=\"col_heading level0 col4\" >Median</th>        <th class=\"col_heading level0 col5\" >Variance</th>        <th class=\"col_heading level0 col6\" >Standard Deviation</th>        <th class=\"col_heading level0 col7\" >SEM</th>    </tr>    <tr>        <th class=\"index_name level0\" >Drug Regimen</th>        <th class=\"blank\" ></th>        <th class=\"blank\" ></th>        <th class=\"blank\" ></th>        <th class=\"blank\" ></th>        <th class=\"blank\" ></th>        <th class=\"blank\" ></th>        <th class=\"blank\" ></th>        <th class=\"blank\" ></th>    </tr></thead><tbody>\n",
       "                <tr>\n",
       "                        <th id=\"T_ce98ce34_1ad5_11eb_bb76_001a7dda7113level0_row0\" class=\"row_heading level0 row0\" >Capomulin</th>\n",
       "                        <td id=\"T_ce98ce34_1ad5_11eb_bb76_001a7dda7113row0_col0\" class=\"data row0 col0\" >Ramicane</td>\n",
       "                        <td id=\"T_ce98ce34_1ad5_11eb_bb76_001a7dda7113row0_col1\" class=\"data row0 col1\" >45.0</td>\n",
       "                        <td id=\"T_ce98ce34_1ad5_11eb_bb76_001a7dda7113row0_col2\" class=\"data row0 col2\" >36.7</td>\n",
       "                        <td id=\"T_ce98ce34_1ad5_11eb_bb76_001a7dda7113row0_col3\" class=\"data row0 col3\" >-22.7%</td>\n",
       "                        <td id=\"T_ce98ce34_1ad5_11eb_bb76_001a7dda7113row0_col4\" class=\"data row0 col4\" >38.1</td>\n",
       "                        <td id=\"T_ce98ce34_1ad5_11eb_bb76_001a7dda7113row0_col5\" class=\"data row0 col5\" >32.7</td>\n",
       "                        <td id=\"T_ce98ce34_1ad5_11eb_bb76_001a7dda7113row0_col6\" class=\"data row0 col6\" >5.72</td>\n",
       "                        <td id=\"T_ce98ce34_1ad5_11eb_bb76_001a7dda7113row0_col7\" class=\"data row0 col7\" >1.14</td>\n",
       "            </tr>\n",
       "            <tr>\n",
       "                        <th id=\"T_ce98ce34_1ad5_11eb_bb76_001a7dda7113level0_row1\" class=\"row_heading level0 row1\" >Ceftamin</th>\n",
       "                        <td id=\"T_ce98ce34_1ad5_11eb_bb76_001a7dda7113row1_col0\" class=\"data row1 col0\" >Capomulin</td>\n",
       "                        <td id=\"T_ce98ce34_1ad5_11eb_bb76_001a7dda7113row1_col1\" class=\"data row1 col1\" >45.0</td>\n",
       "                        <td id=\"T_ce98ce34_1ad5_11eb_bb76_001a7dda7113row1_col2\" class=\"data row1 col2\" >57.8</td>\n",
       "                        <td id=\"T_ce98ce34_1ad5_11eb_bb76_001a7dda7113row1_col3\" class=\"data row1 col3\" >22.1%</td>\n",
       "                        <td id=\"T_ce98ce34_1ad5_11eb_bb76_001a7dda7113row1_col4\" class=\"data row1 col4\" >59.9</td>\n",
       "                        <td id=\"T_ce98ce34_1ad5_11eb_bb76_001a7dda7113row1_col5\" class=\"data row1 col5\" >70.0</td>\n",
       "                        <td id=\"T_ce98ce34_1ad5_11eb_bb76_001a7dda7113row1_col6\" class=\"data row1 col6\" >8.37</td>\n",
       "                        <td id=\"T_ce98ce34_1ad5_11eb_bb76_001a7dda7113row1_col7\" class=\"data row1 col7\" >1.67</td>\n",
       "            </tr>\n",
       "            <tr>\n",
       "                        <th id=\"T_ce98ce34_1ad5_11eb_bb76_001a7dda7113level0_row2\" class=\"row_heading level0 row2\" >Infubinol</th>\n",
       "                        <td id=\"T_ce98ce34_1ad5_11eb_bb76_001a7dda7113row2_col0\" class=\"data row2 col0\" >Infubinol</td>\n",
       "                        <td id=\"T_ce98ce34_1ad5_11eb_bb76_001a7dda7113row2_col1\" class=\"data row2 col1\" >45.0</td>\n",
       "                        <td id=\"T_ce98ce34_1ad5_11eb_bb76_001a7dda7113row2_col2\" class=\"data row2 col2\" >58.2</td>\n",
       "                        <td id=\"T_ce98ce34_1ad5_11eb_bb76_001a7dda7113row2_col3\" class=\"data row2 col3\" >22.7%</td>\n",
       "                        <td id=\"T_ce98ce34_1ad5_11eb_bb76_001a7dda7113row2_col4\" class=\"data row2 col4\" >60.2</td>\n",
       "                        <td id=\"T_ce98ce34_1ad5_11eb_bb76_001a7dda7113row2_col5\" class=\"data row2 col5\" >74.0</td>\n",
       "                        <td id=\"T_ce98ce34_1ad5_11eb_bb76_001a7dda7113row2_col6\" class=\"data row2 col6\" >8.60</td>\n",
       "                        <td id=\"T_ce98ce34_1ad5_11eb_bb76_001a7dda7113row2_col7\" class=\"data row2 col7\" >1.72</td>\n",
       "            </tr>\n",
       "            <tr>\n",
       "                        <th id=\"T_ce98ce34_1ad5_11eb_bb76_001a7dda7113level0_row3\" class=\"row_heading level0 row3\" >Ketapril</th>\n",
       "                        <td id=\"T_ce98ce34_1ad5_11eb_bb76_001a7dda7113row3_col0\" class=\"data row3 col0\" >Placebo</td>\n",
       "                        <td id=\"T_ce98ce34_1ad5_11eb_bb76_001a7dda7113row3_col1\" class=\"data row3 col1\" >45.0</td>\n",
       "                        <td id=\"T_ce98ce34_1ad5_11eb_bb76_001a7dda7113row3_col2\" class=\"data row3 col2\" >62.8</td>\n",
       "                        <td id=\"T_ce98ce34_1ad5_11eb_bb76_001a7dda7113row3_col3\" class=\"data row3 col3\" >28.4%</td>\n",
       "                        <td id=\"T_ce98ce34_1ad5_11eb_bb76_001a7dda7113row3_col4\" class=\"data row3 col4\" >64.5</td>\n",
       "                        <td id=\"T_ce98ce34_1ad5_11eb_bb76_001a7dda7113row3_col5\" class=\"data row3 col5\" >98.9</td>\n",
       "                        <td id=\"T_ce98ce34_1ad5_11eb_bb76_001a7dda7113row3_col6\" class=\"data row3 col6\" >9.95</td>\n",
       "                        <td id=\"T_ce98ce34_1ad5_11eb_bb76_001a7dda7113row3_col7\" class=\"data row3 col7\" >1.99</td>\n",
       "            </tr>\n",
       "            <tr>\n",
       "                        <th id=\"T_ce98ce34_1ad5_11eb_bb76_001a7dda7113level0_row4\" class=\"row_heading level0 row4\" >Naftisol</th>\n",
       "                        <td id=\"T_ce98ce34_1ad5_11eb_bb76_001a7dda7113row4_col0\" class=\"data row4 col0\" >Ceftamin</td>\n",
       "                        <td id=\"T_ce98ce34_1ad5_11eb_bb76_001a7dda7113row4_col1\" class=\"data row4 col1\" >45.0</td>\n",
       "                        <td id=\"T_ce98ce34_1ad5_11eb_bb76_001a7dda7113row4_col2\" class=\"data row4 col2\" >61.2</td>\n",
       "                        <td id=\"T_ce98ce34_1ad5_11eb_bb76_001a7dda7113row4_col3\" class=\"data row4 col3\" >26.5%</td>\n",
       "                        <td id=\"T_ce98ce34_1ad5_11eb_bb76_001a7dda7113row4_col4\" class=\"data row4 col4\" >63.3</td>\n",
       "                        <td id=\"T_ce98ce34_1ad5_11eb_bb76_001a7dda7113row4_col5\" class=\"data row4 col5\" >106.0</td>\n",
       "                        <td id=\"T_ce98ce34_1ad5_11eb_bb76_001a7dda7113row4_col6\" class=\"data row4 col6\" >10.30</td>\n",
       "                        <td id=\"T_ce98ce34_1ad5_11eb_bb76_001a7dda7113row4_col7\" class=\"data row4 col7\" >2.06</td>\n",
       "            </tr>\n",
       "            <tr>\n",
       "                        <th id=\"T_ce98ce34_1ad5_11eb_bb76_001a7dda7113level0_row5\" class=\"row_heading level0 row5\" >Placebo</th>\n",
       "                        <td id=\"T_ce98ce34_1ad5_11eb_bb76_001a7dda7113row5_col0\" class=\"data row5 col0\" >Stelasyn</td>\n",
       "                        <td id=\"T_ce98ce34_1ad5_11eb_bb76_001a7dda7113row5_col1\" class=\"data row5 col1\" >45.0</td>\n",
       "                        <td id=\"T_ce98ce34_1ad5_11eb_bb76_001a7dda7113row5_col2\" class=\"data row5 col2\" >60.5</td>\n",
       "                        <td id=\"T_ce98ce34_1ad5_11eb_bb76_001a7dda7113row5_col3\" class=\"data row5 col3\" >25.6%</td>\n",
       "                        <td id=\"T_ce98ce34_1ad5_11eb_bb76_001a7dda7113row5_col4\" class=\"data row5 col4\" >62.0</td>\n",
       "                        <td id=\"T_ce98ce34_1ad5_11eb_bb76_001a7dda7113row5_col5\" class=\"data row5 col5\" >78.8</td>\n",
       "                        <td id=\"T_ce98ce34_1ad5_11eb_bb76_001a7dda7113row5_col6\" class=\"data row5 col6\" >8.87</td>\n",
       "                        <td id=\"T_ce98ce34_1ad5_11eb_bb76_001a7dda7113row5_col7\" class=\"data row5 col7\" >1.77</td>\n",
       "            </tr>\n",
       "            <tr>\n",
       "                        <th id=\"T_ce98ce34_1ad5_11eb_bb76_001a7dda7113level0_row6\" class=\"row_heading level0 row6\" >Propriva</th>\n",
       "                        <td id=\"T_ce98ce34_1ad5_11eb_bb76_001a7dda7113row6_col0\" class=\"data row6 col0\" >Zoniferol</td>\n",
       "                        <td id=\"T_ce98ce34_1ad5_11eb_bb76_001a7dda7113row6_col1\" class=\"data row6 col1\" >45.0</td>\n",
       "                        <td id=\"T_ce98ce34_1ad5_11eb_bb76_001a7dda7113row6_col2\" class=\"data row6 col2\" >56.7</td>\n",
       "                        <td id=\"T_ce98ce34_1ad5_11eb_bb76_001a7dda7113row6_col3\" class=\"data row6 col3\" >20.7%</td>\n",
       "                        <td id=\"T_ce98ce34_1ad5_11eb_bb76_001a7dda7113row6_col4\" class=\"data row6 col4\" >55.8</td>\n",
       "                        <td id=\"T_ce98ce34_1ad5_11eb_bb76_001a7dda7113row6_col5\" class=\"data row6 col5\" >69.3</td>\n",
       "                        <td id=\"T_ce98ce34_1ad5_11eb_bb76_001a7dda7113row6_col6\" class=\"data row6 col6\" >8.33</td>\n",
       "                        <td id=\"T_ce98ce34_1ad5_11eb_bb76_001a7dda7113row6_col7\" class=\"data row6 col7\" >1.67</td>\n",
       "            </tr>\n",
       "            <tr>\n",
       "                        <th id=\"T_ce98ce34_1ad5_11eb_bb76_001a7dda7113level0_row7\" class=\"row_heading level0 row7\" >Ramicane</th>\n",
       "                        <td id=\"T_ce98ce34_1ad5_11eb_bb76_001a7dda7113row7_col0\" class=\"data row7 col0\" >Ketapril</td>\n",
       "                        <td id=\"T_ce98ce34_1ad5_11eb_bb76_001a7dda7113row7_col1\" class=\"data row7 col1\" >45.0</td>\n",
       "                        <td id=\"T_ce98ce34_1ad5_11eb_bb76_001a7dda7113row7_col2\" class=\"data row7 col2\" >36.2</td>\n",
       "                        <td id=\"T_ce98ce34_1ad5_11eb_bb76_001a7dda7113row7_col3\" class=\"data row7 col3\" >-24.3%</td>\n",
       "                        <td id=\"T_ce98ce34_1ad5_11eb_bb76_001a7dda7113row7_col4\" class=\"data row7 col4\" >36.6</td>\n",
       "                        <td id=\"T_ce98ce34_1ad5_11eb_bb76_001a7dda7113row7_col5\" class=\"data row7 col5\" >32.2</td>\n",
       "                        <td id=\"T_ce98ce34_1ad5_11eb_bb76_001a7dda7113row7_col6\" class=\"data row7 col6\" >5.67</td>\n",
       "                        <td id=\"T_ce98ce34_1ad5_11eb_bb76_001a7dda7113row7_col7\" class=\"data row7 col7\" >1.13</td>\n",
       "            </tr>\n",
       "            <tr>\n",
       "                        <th id=\"T_ce98ce34_1ad5_11eb_bb76_001a7dda7113level0_row8\" class=\"row_heading level0 row8\" >Stelasyn</th>\n",
       "                        <td id=\"T_ce98ce34_1ad5_11eb_bb76_001a7dda7113row8_col0\" class=\"data row8 col0\" >Propriva</td>\n",
       "                        <td id=\"T_ce98ce34_1ad5_11eb_bb76_001a7dda7113row8_col1\" class=\"data row8 col1\" >45.0</td>\n",
       "                        <td id=\"T_ce98ce34_1ad5_11eb_bb76_001a7dda7113row8_col2\" class=\"data row8 col2\" >61.0</td>\n",
       "                        <td id=\"T_ce98ce34_1ad5_11eb_bb76_001a7dda7113row8_col3\" class=\"data row8 col3\" >26.2%</td>\n",
       "                        <td id=\"T_ce98ce34_1ad5_11eb_bb76_001a7dda7113row8_col4\" class=\"data row8 col4\" >62.2</td>\n",
       "                        <td id=\"T_ce98ce34_1ad5_11eb_bb76_001a7dda7113row8_col5\" class=\"data row8 col5\" >90.3</td>\n",
       "                        <td id=\"T_ce98ce34_1ad5_11eb_bb76_001a7dda7113row8_col6\" class=\"data row8 col6\" >9.50</td>\n",
       "                        <td id=\"T_ce98ce34_1ad5_11eb_bb76_001a7dda7113row8_col7\" class=\"data row8 col7\" >1.94</td>\n",
       "            </tr>\n",
       "            <tr>\n",
       "                        <th id=\"T_ce98ce34_1ad5_11eb_bb76_001a7dda7113level0_row9\" class=\"row_heading level0 row9\" >Zoniferol</th>\n",
       "                        <td id=\"T_ce98ce34_1ad5_11eb_bb76_001a7dda7113row9_col0\" class=\"data row9 col0\" >Naftisol</td>\n",
       "                        <td id=\"T_ce98ce34_1ad5_11eb_bb76_001a7dda7113row9_col1\" class=\"data row9 col1\" >45.0</td>\n",
       "                        <td id=\"T_ce98ce34_1ad5_11eb_bb76_001a7dda7113row9_col2\" class=\"data row9 col2\" >59.2</td>\n",
       "                        <td id=\"T_ce98ce34_1ad5_11eb_bb76_001a7dda7113row9_col3\" class=\"data row9 col3\" >24.0%</td>\n",
       "                        <td id=\"T_ce98ce34_1ad5_11eb_bb76_001a7dda7113row9_col4\" class=\"data row9 col4\" >61.8</td>\n",
       "                        <td id=\"T_ce98ce34_1ad5_11eb_bb76_001a7dda7113row9_col5\" class=\"data row9 col5\" >76.9</td>\n",
       "                        <td id=\"T_ce98ce34_1ad5_11eb_bb76_001a7dda7113row9_col6\" class=\"data row9 col6\" >8.77</td>\n",
       "                        <td id=\"T_ce98ce34_1ad5_11eb_bb76_001a7dda7113row9_col7\" class=\"data row9 col7\" >1.75</td>\n",
       "            </tr>\n",
       "    </tbody></table>"
      ],
      "text/plain": [
       "<pandas.io.formats.style.Styler at 0x1b9ebe194a8>"
      ]
     },
     "execution_count": 17,
     "metadata": {},
     "output_type": "execute_result"
    }
   ],
   "source": [
    "print(\"Observation 2: Capomulin and Ramicane were the only treatments that on average decreased tumor size.\")\n",
    "generate_a_summary_table()"
   ]
  },
  {
   "cell_type": "markdown",
   "metadata": {},
   "source": [
    "### 10c. Observation 3"
   ]
  },
  {
   "cell_type": "code",
   "execution_count": 18,
   "metadata": {},
   "outputs": [
    {
     "name": "stdout",
     "output_type": "stream",
     "text": [
      "Mouse c326 was an outlier in the Infubinol group. It looks like it's last timepoint was 5.. Did the mouse die?\n"
     ]
    },
    {
     "data": {
      "image/png": "[encoded data removed]",
      "text/plain": [
       "<Figure size 432x288 with 1 Axes>"
      ]
     },
     "metadata": {
      "needs_background": "light"
     },
     "output_type": "display_data"
    },
    {
     "data": {
      "text/plain": [
       "Mouse ID                         c326\n",
       "Drug Regimen                Infubinol\n",
       "Sex                            Female\n",
       "Age_months                         18\n",
       "Weight (g)                         25\n",
       "Timepoint                           5\n",
       "Final Tumor Volume (mm3)      36.3213\n",
       "Metastatic Sites                    0\n",
       "Name: 669, dtype: object"
      ]
     },
     "metadata": {},
     "output_type": "display_data"
    }
   ],
   "source": [
    "print(\"Mouse c326 was an outlier in the Infubinol group. It looks like it's last timepoint was 5.. Did the mouse die?\")\n",
    "exercise6b()\n",
    "df = src.get_last_instance_data()\n",
    "filt = df[\"Drug Regimen\"]==\"Infubinol\"\n",
    "df = df[filt].rename(columns={\"Tumor Volume (mm3)\":\"Final Tumor Volume (mm3)\"})\n",
    "display(df.loc[669])"
   ]
  },
  {
   "cell_type": "markdown",
   "metadata": {},
   "source": [
    "## Option to quickly choose which DataFrame to work with\n",
    "-----------"
   ]
  },
  {
   "cell_type": "code",
   "execution_count": 19,
   "metadata": {
    "scrolled": true
   },
   "outputs": [
    {
     "data": {
      "application/vnd.jupyter.widget-view+json": {
       "model_id": "74627ec7fe594a82b7ba727a706cc94f",
       "version_major": 2,
       "version_minor": 0
      },
      "text/plain": [
       "Dropdown(options=('SELECT DF', 'mouse metadata', 'study results', 'raw data', 'first instance', 'last instance…"
      ]
     },
     "metadata": {},
     "output_type": "display_data"
    }
   ],
   "source": [
    "importlib.reload(src)\n",
    "global df\n",
    "dropdown = widgets.Dropdown(options=[\"SELECT DF\",\n",
    "                                     \"mouse metadata\",\n",
    "                                     \"study results\",\n",
    "                                     \"raw data\",\n",
    "                                     \"first instance\", \n",
    "                                     \"last instance\",\n",
    "                                     \"promising treatments\"])\n",
    "src.show_dataset_dropdown(dropdown)"
   ]
  },
  {
   "cell_type": "markdown",
   "metadata": {},
   "source": [
    "##### Set the dataframe to the dropdown value"
   ]
  },
  {
   "cell_type": "code",
   "execution_count": 20,
   "metadata": {},
   "outputs": [],
   "source": [
    "df = src.get_df_from_dropdown(dropdown.value)"
   ]
  }
 ],
 "metadata": {
  "kernelspec": {
   "display_name": "Python 3.6.10 64-bit ('PythonData': conda)",
   "language": "python",
   "name": "python361064bitpythondataconda13c33e7d00474160b8916212f83fb86d"
  },
  "language_info": {
   "codemirror_mode": {
    "name": "ipython",
    "version": 3
   },
   "file_extension": ".py",
   "mimetype": "text/x-python",
   "name": "python",
   "nbconvert_exporter": "python",
   "pygments_lexer": "ipython3",
   "version": "3.6.11"
  }
 },
 "nbformat": 4,
 "nbformat_minor": 4
}
